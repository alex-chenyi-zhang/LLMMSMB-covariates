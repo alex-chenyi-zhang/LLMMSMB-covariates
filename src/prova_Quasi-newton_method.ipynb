{
 "cells": [
  {
   "cell_type": "code",
   "execution_count": 1,
   "id": "9f25513a",
   "metadata": {},
   "outputs": [
    {
     "data": {
      "text/plain": [
       "TaskLocalRNG()"
      ]
     },
     "execution_count": 1,
     "metadata": {},
     "output_type": "execute_result"
    }
   ],
   "source": [
    "using Plots\n",
    "#using PlotlyJS\n",
    "using Random, Distributions, StatsBase, LinearAlgebra, DelimitedFiles, Optim\n",
    "Random.seed!()"
   ]
  },
  {
   "cell_type": "code",
   "execution_count": 2,
   "id": "3c338236",
   "metadata": {},
   "outputs": [
    {
     "data": {
      "text/plain": [
       "4"
      ]
     },
     "execution_count": 2,
     "metadata": {},
     "output_type": "execute_result"
    }
   ],
   "source": [
    "# get observed data and known covariates\n",
    "io = open(\"../data/input/X.txt\",\"r\")\n",
    "X = readdlm(io, Float64)\n",
    "close(io)\n",
    "#X = X[:,50:750]\n",
    "\n",
    "io = open(\"../data/input/Y.txt\",\"r\")\n",
    "Y = readdlm(io, Float64)\n",
    "close(io)\n",
    "#Y = Y[50:750,50:750]\n",
    "\n",
    "N = length(X[1,:])\n",
    "P = length(X[:,1])\n",
    "K = 4     # I know that the data was generate with K = 4. In principle one should do model selection to discover it"
   ]
  },
  {
   "cell_type": "code",
   "execution_count": 4,
   "id": "fd2856cd",
   "metadata": {},
   "outputs": [
    {
     "data": {
      "text/plain": [
       "ELBO (generic function with 1 method)"
      ]
     },
     "execution_count": 4,
     "metadata": {},
     "output_type": "execute_result"
    }
   ],
   "source": [
    "# approximate ELBO\n",
    "function ELBO(ϕ::Array{Float64, 3}, λ::Array{Float64, 2}, ν::Vector{Matrix{Float64}},\n",
    "    Σ::Array{Float64, 2}, σ_2::Array{Float64, 1}, B::Array{Float64, 2}, ρ::Float64, μ::Array{Float64, 2})\n",
    "    apprELBO = 0.0\n",
    "    inv_Σ = inv(Σ)\n",
    "    apprELBO = 0.5 * N * log(det(inv_Σ))\n",
    "    for i in 1:N\n",
    "        apprELBO -= 0.5 * (dot(λ[i,:] .- μ[:,i], inv_Σ, λ[i,:] .- μ[:,i]) + tr(inv_Σ*ν[i])) #first 2 terms\n",
    "    end\n",
    "    \n",
    "    for i in 1:N\n",
    "        for j in 1:N\n",
    "            if i != j\n",
    "                apprELBO += dot(ϕ[i,j,:],λ[i,:])# vcat(λ[i,:], 1.0)) #third term\n",
    "                for k in 1:K\n",
    "                    apprELBO -= ϕ[i,j,k]*log(ϕ[i,j,k]) #last entropic term\n",
    "                end\n",
    "            end\n",
    "        end\n",
    "    end\n",
    "    \n",
    "    for i in 1:N\n",
    "        theta = zeros(K)\n",
    "        theta .= exp.(λ[i,:])  #exp.(vcat(λ[i,:], 1.0))\n",
    "        theta /= sum(theta)\n",
    "        # second line of the expression above\n",
    "        apprELBO -= (N-1) * ( (log(sum(exp.(λ[i,:])))) + 0.5*tr((diagm(theta) .- theta * theta')*ν[i]) )\n",
    "        #gaussian entropic term\n",
    "        apprELBO += 0.5*log(det(ν[i]))\n",
    "    end\n",
    "    \n",
    "    #likelihood term\n",
    "    for i in 1:N\n",
    "        for j in 1:i-1\n",
    "            for k in 1:K\n",
    "                for g in 1:K\n",
    "                    #logP = Y[i,j] * ( log(B[k,g]*(1-ρ)) - abs(i-j)/N) - B[k,g]*(1-ρ)*exp(-abs(i-j)/N)\n",
    "                    logP = Y[i,j]*log(B[k,g]*(1-ρ)) + (1-Y[i,j])*log(1-B[k,g]*(1-ρ))\n",
    "                    apprELBO += ϕ[i,j,k]*ϕ[j,i,g]*logP\n",
    "                end\n",
    "            end\n",
    "        end\n",
    "    end\n",
    "    return apprELBO\n",
    "end"
   ]
  },
  {
   "cell_type": "code",
   "execution_count": 9,
   "id": "d9345618",
   "metadata": {},
   "outputs": [
    {
     "data": {
      "text/plain": [
       "hessf! (generic function with 1 method)"
      ]
     },
     "execution_count": 9,
     "metadata": {},
     "output_type": "execute_result"
    }
   ],
   "source": [
    "# define the function to optimize\n",
    "function f(η_i::Array{Float64, 1}, ϕ_i::Array{Float64, 1}, inv_Σ::Array{Float64, 2}, μ_i::Array{Float64},N::Int)\n",
    "    f = 0.5 * dot(η_i .- μ_i, inv_Σ, η_i .- μ_i) - dot(η_i, ϕ_i) +(N-1)*log(sum(exp.(η_i)))\n",
    "    return f\n",
    "end\n",
    "\n",
    "\n",
    "function gradf!(G, η_i::Array{Float64, 1}, ϕ_i::Array{Float64, 1}, inv_Σ::Array{Float64, 2}, μ_i::Array{Float64},N::Int)\n",
    "    G .= exp.(η_i)/sum(exp.(η_i))*(N-1) .- ϕ_i .+ inv_Σ*(η_i .- μ_i) \n",
    "    #G .= -exp.(η_i)/sum(exp.(η_i)) .+ ϕ_i/(N-1) - inv_Σ*(η_i .- μ_i)/(N-1)\n",
    "end\n",
    "\n",
    "function hessf!(H, η_i::Array{Float64, 1}, inv_Σ::Array{Float64, 2}, μ_i::Array{Float64},N::Int)\n",
    "    theta = exp.(η_i)/sum(exp.(η_i))\n",
    "    H .= + (N-1)*(diagm(theta) .- theta*theta') .+ inv_Σ\n",
    "    #H .= - (diagm(theta) .- theta*theta') .- inv_Σ/(N-1)\n",
    "end"
   ]
  },
  {
   "cell_type": "code",
   "execution_count": 10,
   "id": "3b7e6d00",
   "metadata": {},
   "outputs": [],
   "source": [
    "# variational parameters for the E-step\n",
    "ϕ = ones(N,N,K) #.* 1/K  # initialized as uniform distributions\n",
    "for i in 1:N\n",
    "    for j in 1:N\n",
    "        ϕ[i,j,:] = rand(Dirichlet(K,1.0))\n",
    "    end\n",
    "end\n",
    "λ = randn(N,K)    # mean vectors for the gaussians for every node\n",
    "ν = [Matrix(1.0I, K, K) for i in 1:N] # covariance matrices for the gaussians. This is a vector of matrices\n",
    "\n",
    "# parameters to be optimized in the M-step\n",
    "#Σ = Matrix(1.0I, K, K)    # global covariance matrix\n",
    "Σ = rand(Wishart(K,Matrix(.5I,K, K)))\n",
    "σ_2 = rand(Gamma(1,1), K);      # prior covariance on the transformation coefficients Γ\n",
    "\n",
    "B = zeros(K,K)\n",
    "for k in 1:K\n",
    "    for g in 1:k\n",
    "        B[k,g] = rand()*0.04\n",
    "        B[g,k] = B[k,g]\n",
    "    end\n",
    "end\n",
    "B .+= Matrix(1.0I, K, K)*0.8\n",
    "ρ = 0.1\n",
    "\n",
    "Γ = zeros(K,P)\n",
    "for k in 1:K\n",
    "    Γ[k,:] .= randn(P)* sqrt(σ_2[k])\n",
    "end\n",
    "\n",
    "μ = Γ * X;\n",
    "for i in 1:N\n",
    "    ϕ[i,i,:] .= 0\n",
    "end"
   ]
  },
  {
   "cell_type": "code",
   "execution_count": 21,
   "id": "c41e7f8a",
   "metadata": {},
   "outputs": [
    {
     "name": "stdout",
     "output_type": "stream",
     "text": [
      " * Status: success\n",
      "\n",
      " * Candidate solution\n",
      "    Final objective value:     1.386509e+03\n",
      "\n",
      " * Found with\n",
      "    Algorithm:     BFGS\n",
      "\n",
      " * Convergence measures\n",
      "    |x - x'|               = 6.74e-08 ≰ 0.0e+00\n",
      "    |x - x'|/|x'|          = 7.85e-08 ≰ 0.0e+00\n",
      "    |f(x) - f(x')|         = 4.55e-13 ≰ 0.0e+00\n",
      "    |f(x) - f(x')|/|f(x')| = 3.28e-16 ≰ 0.0e+00\n",
      "    |g(x)|                 = 3.86e-09 ≤ 1.0e-08\n",
      "\n",
      " * Work counters\n",
      "    Seconds run:   0  (vs limit Inf)\n",
      "    Iterations:    11\n",
      "    f(x) calls:    30\n",
      "    ∇f(x) calls:   30\n",
      "\n",
      "1386.50885964289\n"
     ]
    }
   ],
   "source": [
    "for m in 1:1\n",
    "    for i in 1:1\n",
    "        inv_Σ = inv(Σ)\n",
    "        G = zeros(K)\n",
    "        H = zeros(K,K)\n",
    "        ϕ_i = sum(ϕ[i,:,:],dims=1)[1,:]\n",
    "        μ_i = μ[:,i]\n",
    "        res = optimize(η_i -> f(η_i, ϕ_i, inv_Σ, μ_i, N), (G, η_i) -> gradf!(G,η_i, ϕ_i, inv_Σ, μ_i, N), randn(K), BFGS())\n",
    "        #res = optimize(η_i -> f(η_i, ϕ_i, inv_Σ, μ_i, N), randn(K))\n",
    "        println(res)\n",
    "        #println(minimum(res))\n",
    "        η_i = Optim.minimizer(res)\n",
    "        hessf!(H, η_i, inv_Σ, μ_i, N)\n",
    "        #println(inv(H))\n",
    "        println(Optim.minimum(res))\n",
    "    end\n",
    "end"
   ]
  },
  {
   "cell_type": "code",
   "execution_count": null,
   "id": "e1ef1d3c",
   "metadata": {},
   "outputs": [],
   "source": [
    "* Status: success\n",
    "\n",
    " * Candidate solution\n",
    "    Final objective value:     1.386509e+03\n",
    "\n",
    " * Found with\n",
    "    Algorithm:     Nelder-Mead\n",
    "\n",
    " * Convergence measures\n",
    "    √(Σ(yᵢ-ȳ)²)/n ≤ 1.0e-08\n",
    "\n",
    " * Work counters\n",
    "    Seconds run:   0  (vs limit Inf)\n",
    "    Iterations:    152\n",
    "    f(x) calls:    273\n",
    "\n",
    "1386.5088596457194"
   ]
  }
 ],
 "metadata": {
  "kernelspec": {
   "display_name": "Julia 1.7.3",
   "language": "julia",
   "name": "julia-1.7"
  },
  "language_info": {
   "file_extension": ".jl",
   "mimetype": "application/julia",
   "name": "julia",
   "version": "1.7.3"
  }
 },
 "nbformat": 4,
 "nbformat_minor": 5
}
